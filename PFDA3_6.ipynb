{
 "cells": [
  {
   "cell_type": "markdown",
   "metadata": {},
   "source": [
    "Write some code taht takes one list and creates a second list that has the type for each entry in the list.\n",
    "Use type() function and for loop.\n",
    "\n",
    "optional: filter out repeats"
   ]
  },
  {
   "cell_type": "code",
   "execution_count": 6,
   "metadata": {},
   "outputs": [
    {
     "name": "stdout",
     "output_type": "stream",
     "text": [
      "[<class 'int'>, <class 'bool'>, <class 'str'>, <class 'float'>, <class 'bool'>, <class 'int'>]\n",
      "[<class 'int'>, <class 'bool'>, <class 'str'>, <class 'float'>]\n"
     ]
    }
   ],
   "source": [
    "# My way\n",
    "list_a = [4, True, \"Hello\", 79.5, False, 18]\n",
    "\n",
    "list_b = []\n",
    "\n",
    "for i in range(0, len(list_a)):\n",
    "    list_b.append(type(list_a[i]))\n",
    "\n",
    "print(list_b)\n",
    "\n",
    "# Alternate (example) way\n",
    "unique_types = []\n",
    "for item in list_a:\n",
    "    item_type = type(item)\n",
    "    if item_type not in unique_types:\n",
    "        unique_types.append(item_type)\n",
    "\n",
    "print(unique_types)"
   ]
  },
  {
   "cell_type": "code",
   "execution_count": 17,
   "metadata": {},
   "outputs": [
    {
     "name": "stdout",
     "output_type": "stream",
     "text": [
      "{'one': '1', 'two': '2', 'three': '3'}\n"
     ]
    }
   ],
   "source": [
    "# Combine 2 lists into dictionary\n",
    "# Shortcut: dict(zip(list1, list2))\n",
    "\n",
    "list1 = ['one', 'two', 'three']\n",
    "list2 = ['1', '2', '3']\n",
    "\n",
    "combo_dict = {}\n",
    "\n",
    "for i in range(len(list1)):\n",
    "    combo_dict[list1[i]] = list2[i]\n",
    "\n",
    "print(combo_dict)\n",
    "\n"
   ]
  },
  {
   "cell_type": "code",
   "execution_count": 19,
   "metadata": {},
   "outputs": [
    {
     "name": "stdout",
     "output_type": "stream",
     "text": [
      "{'Make': 'Honda', 'Model': 'Civic', 'Year': 2003, 'Doors': 4, 'Cylinders': 4}\n"
     ]
    }
   ],
   "source": [
    "car_dict = {\n",
    "    \"Make\" : \"Honda\",\n",
    "    \"Model\" : \"Civic\",\n",
    "    \"Year\" : 2003,\n",
    "    \"Doors\" : 4,\n",
    "    \"Cylinders\" : 4\n",
    "}\n",
    "\n",
    "print(car_dict)"
   ]
  },
  {
   "cell_type": "code",
   "execution_count": 28,
   "metadata": {},
   "outputs": [
    {
     "name": "stdout",
     "output_type": "stream",
     "text": [
      "True\n"
     ]
    }
   ],
   "source": [
    "# Check if 1.0 float is same as boolean True\n",
    "if 1.0 == True:\n",
    "    print('True')"
   ]
  },
  {
   "cell_type": "code",
   "execution_count": 42,
   "metadata": {},
   "outputs": [
    {
     "name": "stdout",
     "output_type": "stream",
     "text": [
      "{'a': '2', 'g': '5', 'k': '8', 'v': '5', 'n': '7'}\n"
     ]
    }
   ],
   "source": [
    "# Get student name and grade from user\n",
    "gradebook = {}\n",
    "for i in range(5):\n",
    "    name = input(\"Student name: \")\n",
    "    grade = input(\"Enter their grade: \")\n",
    "    gradebook[name] = grade\n",
    "\n",
    "with open('gradebook.txt', \"w\") as f:\n",
    "    for key, value in gradebook.items():  \n",
    "        f.write('%s:%s\\n' % (key, value))\n",
    "\n",
    "print(gradebook)\n",
    "\n"
   ]
  },
  {
   "cell_type": "code",
   "execution_count": 43,
   "metadata": {},
   "outputs": [
    {
     "name": "stdout",
     "output_type": "stream",
     "text": [
      "{'q': ['1', '2', '3', '', '4'], 's': ['1', '2', '3', '4', '5'], 'd': ['1', '2', '3', '4', '5'], 'f': ['1', '2', '3', '4', '5'], 'g1': ['2', '3', '4', '5', '6']}\n"
     ]
    }
   ],
   "source": [
    "# Get student name and 5 grades for each\n",
    "\n",
    "# Save the info in a dictionary\n",
    "report_card = {}\n",
    "\n",
    "for i in range(5):\n",
    "    student = input(f\"Student name {i + 1}: \")\n",
    "    student_grades = []\n",
    "    for j in range(5):\n",
    "        grade = input(f\"Enter grade {j + 1} for {student}: \")\n",
    "        student_grades.append(grade)\n",
    "    report_card[student] = student_grades\n",
    "\n",
    "# Write dictionary into a file\n",
    "with open('report_card.txt', \"w\") as f:\n",
    "    for name, grades in report_card.items():  \n",
    "        f.write(f\"{name}: {','.join(str(grade) for grade in grades)}\\n\")\n",
    "\n",
    "print(report_card)"
   ]
  },
  {
   "cell_type": "code",
   "execution_count": null,
   "metadata": {},
   "outputs": [],
   "source": [
    "total_sales = {}\n",
    "\n",
    "# Read file and extract product names and total sales for each\n",
    "with open('sales_data.csv', 'r') as sales:\n",
    "    for "
   ]
  }
 ],
 "metadata": {
  "kernelspec": {
   "display_name": "Python 3",
   "language": "python",
   "name": "python3"
  },
  "language_info": {
   "codemirror_mode": {
    "name": "ipython",
    "version": 3
   },
   "file_extension": ".py",
   "mimetype": "text/x-python",
   "name": "python",
   "nbconvert_exporter": "python",
   "pygments_lexer": "ipython3",
   "version": "3.12.2"
  }
 },
 "nbformat": 4,
 "nbformat_minor": 2
}
