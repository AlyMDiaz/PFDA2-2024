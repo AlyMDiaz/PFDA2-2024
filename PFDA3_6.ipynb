{
 "cells": [
  {
   "cell_type": "markdown",
   "metadata": {},
   "source": [
    "Write some code taht takes one list and creates a second list that has the type for each entry in the list.\n",
    "Use type() function and for loop.\n",
    "\n",
    "optional: filter out repeats"
   ]
  },
  {
   "cell_type": "code",
   "execution_count": 2,
   "metadata": {},
   "outputs": [],
   "source": [
    "import csv\n",
    "import pandas as pd"
   ]
  },
  {
   "cell_type": "code",
   "execution_count": 6,
   "metadata": {},
   "outputs": [
    {
     "name": "stdout",
     "output_type": "stream",
     "text": [
      "[<class 'int'>, <class 'bool'>, <class 'str'>, <class 'float'>, <class 'bool'>, <class 'int'>]\n",
      "[<class 'int'>, <class 'bool'>, <class 'str'>, <class 'float'>]\n"
     ]
    }
   ],
   "source": [
    "# My way\n",
    "list_a = [4, True, \"Hello\", 79.5, False, 18]\n",
    "\n",
    "list_b = []\n",
    "\n",
    "for i in range(0, len(list_a)):\n",
    "    list_b.append(type(list_a[i]))\n",
    "\n",
    "print(list_b)\n",
    "\n",
    "# Alternate (example) way\n",
    "unique_types = []\n",
    "for item in list_a:\n",
    "    item_type = type(item)\n",
    "    if item_type not in unique_types:\n",
    "        unique_types.append(item_type)\n",
    "\n",
    "print(unique_types)"
   ]
  },
  {
   "cell_type": "code",
   "execution_count": 17,
   "metadata": {},
   "outputs": [
    {
     "name": "stdout",
     "output_type": "stream",
     "text": [
      "{'one': '1', 'two': '2', 'three': '3'}\n"
     ]
    }
   ],
   "source": [
    "# Combine 2 lists into dictionary\n",
    "# Shortcut: dict(zip(list1, list2))\n",
    "\n",
    "list1 = ['one', 'two', 'three']\n",
    "list2 = ['1', '2', '3']\n",
    "\n",
    "combo_dict = {}\n",
    "\n",
    "for i in range(len(list1)):\n",
    "    combo_dict[list1[i]] = list2[i]\n",
    "\n",
    "print(combo_dict)\n",
    "\n"
   ]
  },
  {
   "cell_type": "code",
   "execution_count": 19,
   "metadata": {},
   "outputs": [
    {
     "name": "stdout",
     "output_type": "stream",
     "text": [
      "{'Make': 'Honda', 'Model': 'Civic', 'Year': 2003, 'Doors': 4, 'Cylinders': 4}\n"
     ]
    }
   ],
   "source": [
    "car_dict = {\n",
    "    \"Make\" : \"Honda\",\n",
    "    \"Model\" : \"Civic\",\n",
    "    \"Year\" : 2003,\n",
    "    \"Doors\" : 4,\n",
    "    \"Cylinders\" : 4\n",
    "}\n",
    "\n",
    "print(car_dict)"
   ]
  },
  {
   "cell_type": "code",
   "execution_count": 28,
   "metadata": {},
   "outputs": [
    {
     "name": "stdout",
     "output_type": "stream",
     "text": [
      "True\n"
     ]
    }
   ],
   "source": [
    "# Check if 1.0 float is same as boolean True\n",
    "if 1.0 == True:\n",
    "    print('True')"
   ]
  },
  {
   "cell_type": "code",
   "execution_count": 42,
   "metadata": {},
   "outputs": [
    {
     "name": "stdout",
     "output_type": "stream",
     "text": [
      "{'a': '2', 'g': '5', 'k': '8', 'v': '5', 'n': '7'}\n"
     ]
    }
   ],
   "source": [
    "# Get student name and grade from user (my version)\n",
    "gradebook = {}\n",
    "for i in range(5):\n",
    "    name = input(\"Student name: \")\n",
    "    grade = input(\"Enter their grade: \")\n",
    "    gradebook[name] = grade\n",
    "\n",
    "with open('gradebook.txt', \"w\") as f:\n",
    "    for key, value in gradebook.items():  \n",
    "        f.write('%s:%s\\n' % (key, value))\n",
    "\n",
    "print(gradebook)"
   ]
  },
  {
   "cell_type": "code",
   "execution_count": 43,
   "metadata": {},
   "outputs": [
    {
     "name": "stdout",
     "output_type": "stream",
     "text": [
      "{'q': ['1', '2', '3', '', '4'], 's': ['1', '2', '3', '4', '5'], 'd': ['1', '2', '3', '4', '5'], 'f': ['1', '2', '3', '4', '5'], 'g1': ['2', '3', '4', '5', '6']}\n"
     ]
    }
   ],
   "source": [
    "# Get student name and 5 grades for each student (example version)\n",
    "\n",
    "# Save the info in a dictionary\n",
    "report_card = {}\n",
    "\n",
    "for i in range(5):\n",
    "    student = input(f\"Student name {i + 1}: \")\n",
    "    student_grades = []\n",
    "    for j in range(5):\n",
    "        grade = input(f\"Enter grade {j + 1} for {student}: \")\n",
    "        student_grades.append(grade)\n",
    "    report_card[student] = student_grades\n",
    "\n",
    "# Write dictionary into a file\n",
    "with open('report_card.txt', \"w\") as f:\n",
    "    for name, grades in report_card.items():  \n",
    "        f.write(f\"{name}: {','.join(str(grade) for grade in grades)}\\n\")\n",
    "\n",
    "print(report_card)"
   ]
  },
  {
   "cell_type": "code",
   "execution_count": 27,
   "metadata": {},
   "outputs": [
    {
     "name": "stdout",
     "output_type": "stream",
     "text": [
      "{'Muffin Hinge - 211n': '1142.64', 'Mushroom - Crimini': '377.84', 'Sauce - Sesame Thai Dressing': '3332.98', 'Oil - Shortening - All - Purpose': '1858.5', 'Soup - Campbells, Lentil': '4792.92', 'Urban Zen Drinks': '114.1', 'Onions - Red': '1844.5', 'Cream - 10%': '464.13', 'Sultanas': '4050.0', 'Wine - Chenin Blanc K.w.v.': '2141.02', 'Chutney Sauce - Mango': '2229.44', 'Cafe Royale': '311.22', 'Banana Turning': '6208.44', 'Wine - Conde De Valdemar': '2316.48', 'Flour - Rye': '2364.56', 'Bread Foccacia Whole': '300.24', 'Water - Mineral, Natural': '1992.32', 'Apple - Delicious, Golden': '3928.34', 'Onions Granulated': '6152.73', 'Beer - Alexander Kieths, Pale Ale': '2610.86', 'Trueblue - Blueberry': '4235.3', 'Poppy Seed': '4081.7', 'Pasta - Cheese / Spinach Bauletti': '9102.84', 'Bread - Olive': '774.52', 'Ice Cream Bar - Oreo Sandwich': '656.88', 'Shrimp - 16/20, Iqf, Shell On': '713.28', 'Veal - Nuckle': '4462.76', 'Chocolate - Mi - Amere Semi': '137.28', 'Sour Puss - Tangerine': '2880.5', 'Yogurt - French Vanilla': '142.34', 'Absolut Citron': '2534.4', 'Sesame Seed': '67.74', 'Cookie - Oreo 100x2': '2058.42', 'Energy - Boo - Koo': '992.88', 'Beef - Rib Roast, Cap On': '154.06', 'Dehydrated Kelp Kombo': '51.15', 'Phyllo Dough': '743.61', 'Soup - Tomato Mush. Florentine': '7773.22', 'Cornish Hen': '3060.0', 'Wine - White, Ej Gallo': '863.07', 'Wine - Pinot Noir Stoneleigh': '1199.68', 'Pepper - Green, Chili': '3960.16', 'Bread - Raisin Walnut Oval': '565.74', 'Veal - Shank, Pieces': '184.38', 'Wine - Piper Heidsieck Brut': '60.28', 'Pork - Side Ribs': '1239.55', 'Shark - Loin': '899.6', 'Soup - Knorr, French Onion': '1344.42', 'Water Chestnut - Canned': '353.78', 'Sugar Thermometer': '4231.41', 'Chervil - Fresh': '2606.01', 'Muskox - French Rack': '731.92', 'Flower - Leather Leaf Fern': '266.64', 'Buffalo - Tenderloin': '4038.64', 'Pecan Raisin - Tarts': '2714.85', 'Muffin Mix - Chocolate Chip': '7116.77', 'Sauerkraut': '6840.1', 'Coffee - Irish Cream': '1960.98', 'Juice - Orange 1.89l': '4011.23', 'Eel - Smoked': '1834.11', 'Ginger - Pickled': '630.24', 'Beer - Sleemans Cream Ale': '161.7', 'Bar - Sweet And Salty Chocolate': '7066.56', 'Pork Ham Prager': '4055.52', 'Muffin Mix - Corn Harvest': '1322.2', 'Wine - White, Antinore Orvieto': '3309.84', 'Tuna - Bluefin': '87.98', 'Bread - Italian Sesame Poly': '955.36', 'Potatoes - Parissienne': '130.9', 'Coffee - Egg Nog Capuccino': '2671.95', 'Mustard - Dijon': '4601.3', 'Juice - Prune': '189.44', 'Lychee': '319.8', 'Ice Cream - Strawberry': '1451.29', 'Quail - Jumbo Boneless': '4176.72', 'Sugar - Splenda Sweetener': '1567.62', 'Wine - Chardonnay Mondavi': '89.92', 'Wine - Prosecco Valdobiaddene': '3635.37', 'Mushroom - Shitake, Fresh': '4069.0', 'Water - Tonic': '4464.2', 'Schnappes - Peach, Walkers': '4760.12', 'Vermacelli - Sprinkles, Assorted': '1561.95', 'Cheese Cheddar Processed': '513.12', 'Cheese - Cheddar, Mild': '3185.0', 'Tea - Lemon Green Tea': '3343.2', 'Mushroom - Chanterelle, Dry': '7199.27', 'Fish - Bones': '3967.38', 'Lobster - Live': '2250.6', 'Juice - V8, Tomato': '1283.5', 'Wine - White, Chardonnay': '4977.98', 'Bread - Ciabatta Buns': '1604.12', 'Kellogs Cereal In A Cup': '603.36', 'Chicken - White Meat, No Tender': '1909.37', 'Arizona - Plum Green Tea': '685.9', 'Ice - Clear, 300 Lb For Carving': '1562.6', 'Muffin Batt - Ban Dream Zero': '4079.6', 'Nut - Pecan, Pieces': '3683.2', 'Mushrooms - Black, Dried': '1663.2'}\n"
     ]
    }
   ],
   "source": [
    "# Read file and extract product names and total sales for each product\n",
    "# (Using CSV module, import csv above)\n",
    "import csv\n",
    "\n",
    "with open('sales_data.csv', 'r') as sales:\n",
    "    all_sales = csv.DictReader(sales)\n",
    "\n",
    "    # Store product_name, total_sale in dict\n",
    "    product_sales = {}\n",
    "    for row in all_sales:\n",
    "        product_sales[row['Product_Name']] = row['Total_Sale']\n",
    "        \n",
    "    # Write to text file from dict\n",
    "    with open('product_sales.txt', \"w\") as ps:\n",
    "        for product, total in product_sales.items():  \n",
    "            ps.write('%s:%s\\n' % (product, total))\n",
    "\n",
    "print(product_sales)\n"
   ]
  },
  {
   "cell_type": "code",
   "execution_count": 4,
   "metadata": {},
   "outputs": [
    {
     "data": {
      "text/html": [
       "<div>\n",
       "<style scoped>\n",
       "    .dataframe tbody tr th:only-of-type {\n",
       "        vertical-align: middle;\n",
       "    }\n",
       "\n",
       "    .dataframe tbody tr th {\n",
       "        vertical-align: top;\n",
       "    }\n",
       "\n",
       "    .dataframe thead th {\n",
       "        text-align: right;\n",
       "    }\n",
       "</style>\n",
       "<table border=\"1\" class=\"dataframe\">\n",
       "  <thead>\n",
       "    <tr style=\"text-align: right;\">\n",
       "      <th></th>\n",
       "      <th>Product_Name</th>\n",
       "      <th>Total_Sale</th>\n",
       "    </tr>\n",
       "  </thead>\n",
       "  <tbody>\n",
       "    <tr>\n",
       "      <th>0</th>\n",
       "      <td>Muffin Hinge - 211n</td>\n",
       "      <td>1142.64</td>\n",
       "    </tr>\n",
       "    <tr>\n",
       "      <th>1</th>\n",
       "      <td>Mushroom - Crimini</td>\n",
       "      <td>377.84</td>\n",
       "    </tr>\n",
       "    <tr>\n",
       "      <th>2</th>\n",
       "      <td>Sauce - Sesame Thai Dressing</td>\n",
       "      <td>3332.98</td>\n",
       "    </tr>\n",
       "    <tr>\n",
       "      <th>3</th>\n",
       "      <td>Oil - Shortening - All - Purpose</td>\n",
       "      <td>1858.50</td>\n",
       "    </tr>\n",
       "    <tr>\n",
       "      <th>4</th>\n",
       "      <td>Soup - Campbells, Lentil</td>\n",
       "      <td>4792.92</td>\n",
       "    </tr>\n",
       "    <tr>\n",
       "      <th>...</th>\n",
       "      <td>...</td>\n",
       "      <td>...</td>\n",
       "    </tr>\n",
       "    <tr>\n",
       "      <th>95</th>\n",
       "      <td>Ice - Clear, 300 Lb For Carving</td>\n",
       "      <td>1562.60</td>\n",
       "    </tr>\n",
       "    <tr>\n",
       "      <th>96</th>\n",
       "      <td>Muffin Batt - Ban Dream Zero</td>\n",
       "      <td>2212.60</td>\n",
       "    </tr>\n",
       "    <tr>\n",
       "      <th>97</th>\n",
       "      <td>Nut - Pecan, Pieces</td>\n",
       "      <td>3683.20</td>\n",
       "    </tr>\n",
       "    <tr>\n",
       "      <th>98</th>\n",
       "      <td>Mushrooms - Black, Dried</td>\n",
       "      <td>1663.20</td>\n",
       "    </tr>\n",
       "    <tr>\n",
       "      <th>99</th>\n",
       "      <td>Muffin Batt - Ban Dream Zero</td>\n",
       "      <td>4079.60</td>\n",
       "    </tr>\n",
       "  </tbody>\n",
       "</table>\n",
       "<p>100 rows × 2 columns</p>\n",
       "</div>"
      ],
      "text/plain": [
       "                        Product_Name  Total_Sale\n",
       "0                Muffin Hinge - 211n     1142.64\n",
       "1                 Mushroom - Crimini      377.84\n",
       "2       Sauce - Sesame Thai Dressing     3332.98\n",
       "3   Oil - Shortening - All - Purpose     1858.50\n",
       "4           Soup - Campbells, Lentil     4792.92\n",
       "..                               ...         ...\n",
       "95   Ice - Clear, 300 Lb For Carving     1562.60\n",
       "96      Muffin Batt - Ban Dream Zero     2212.60\n",
       "97               Nut - Pecan, Pieces     3683.20\n",
       "98          Mushrooms - Black, Dried     1663.20\n",
       "99      Muffin Batt - Ban Dream Zero     4079.60\n",
       "\n",
       "[100 rows x 2 columns]"
      ]
     },
     "execution_count": 4,
     "metadata": {},
     "output_type": "execute_result"
    }
   ],
   "source": [
    "# Read file and extract product names and total sales for each product\n",
    "# Not saved to dict\n",
    "# (Using pandas)\n",
    "\n",
    "sales_data = pd.read_csv('sales_data.csv')\n",
    "\n",
    "product_sales = sales_data[['Product_Name', 'Total_Sale']]\n",
    "\n",
    "product_sales"
   ]
  }
 ],
 "metadata": {
  "kernelspec": {
   "display_name": "Python 3",
   "language": "python",
   "name": "python3"
  },
  "language_info": {
   "codemirror_mode": {
    "name": "ipython",
    "version": 3
   },
   "file_extension": ".py",
   "mimetype": "text/x-python",
   "name": "python",
   "nbconvert_exporter": "python",
   "pygments_lexer": "ipython3",
   "version": "3.12.2"
  }
 },
 "nbformat": 4,
 "nbformat_minor": 2
}
