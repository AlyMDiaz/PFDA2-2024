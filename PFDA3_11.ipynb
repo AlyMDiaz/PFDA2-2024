{
 "cells": [
  {
   "cell_type": "code",
   "execution_count": 9,
   "metadata": {},
   "outputs": [],
   "source": [
    "import pandas as pd\n",
    "from string import ascii_lowercase"
   ]
  },
  {
   "cell_type": "code",
   "execution_count": 6,
   "metadata": {},
   "outputs": [
    {
     "data": {
      "text/plain": [
       "a    1\n",
       "b    2\n",
       "c    3\n",
       "dtype: int64[pyarrow]"
      ]
     },
     "execution_count": 6,
     "metadata": {},
     "output_type": "execute_result"
    }
   ],
   "source": [
    "sr = pd.Series([1,2,3], dtype=\"int64[pyarrow]\", index=['a','b','c'])\n",
    "\n",
    "sr"
   ]
  },
  {
   "cell_type": "code",
   "execution_count": 24,
   "metadata": {},
   "outputs": [
    {
     "name": "stdout",
     "output_type": "stream",
     "text": [
      "14\n"
     ]
    }
   ],
   "source": [
    "# Create list and make into series, change series indexes to letters,\n",
    "# and print element of list based on user input letter\n",
    " \n",
    "from string import ascii_lowercase\n",
    "\n",
    "letters = ascii_lowercase\n",
    "lis = []\n",
    "ind = []\n",
    "\n",
    "lis_len = int(input('How many items (1-26?): '))\n",
    "for i in range(lis_len):\n",
    "    item = input('Enter a number: ')\n",
    "    lis.append(item)\n",
    "    item_ind = letters[i]\n",
    "    ind.append(item_ind)\n",
    "\n",
    "ser = pd.Series(lis, dtype=\"int64[pyarrow]\", index=ind)\n",
    "\n",
    "letter = input('Enter a letter: ')\n",
    "\n",
    "print(ser[letter])"
   ]
  },
  {
   "cell_type": "code",
   "execution_count": 32,
   "metadata": {},
   "outputs": [
    {
     "name": "stdout",
     "output_type": "stream",
     "text": [
      "Mean: 3.0\n",
      "Median: 3.0\n",
      "The mean and median are equal.\n"
     ]
    }
   ],
   "source": [
    "# Create series that is at least 3 numbers long; find mean and median\n",
    "# Print which is larger\n",
    "\n",
    "ser_1 = pd.Series([1, 2, 3, 4, 5], dtype=\"int64[pyarrow]\")\n",
    "\n",
    "m1 = ser_1.mean()\n",
    "m2 = ser_1.median()\n",
    "\n",
    "print(f'Mean: {m1}\\nMedian: {m2}')\n",
    "\n",
    "if m1 > m2:\n",
    "    print('The mean is larger.')\n",
    "elif m2 > m1:\n",
    "    print('The median is larger.')\n",
    "else:\n",
    "    print('The mean and median are equal.')"
   ]
  },
  {
   "cell_type": "code",
   "execution_count": 36,
   "metadata": {},
   "outputs": [
    {
     "name": "stdout",
     "output_type": "stream",
     "text": [
      "   Name  Age      City\n",
      "0  John   30  New York\n",
      "1  Jane   29    London\n",
      "2   Jim   31     Paris\n",
      "3  Joan   32    Berlin\n"
     ]
    },
    {
     "data": {
      "text/html": [
       "<div>\n",
       "<style scoped>\n",
       "    .dataframe tbody tr th:only-of-type {\n",
       "        vertical-align: middle;\n",
       "    }\n",
       "\n",
       "    .dataframe tbody tr th {\n",
       "        vertical-align: top;\n",
       "    }\n",
       "\n",
       "    .dataframe thead th {\n",
       "        text-align: right;\n",
       "    }\n",
       "</style>\n",
       "<table border=\"1\" class=\"dataframe\">\n",
       "  <thead>\n",
       "    <tr style=\"text-align: right;\">\n",
       "      <th></th>\n",
       "      <th>Name</th>\n",
       "      <th>Age</th>\n",
       "      <th>City</th>\n",
       "    </tr>\n",
       "  </thead>\n",
       "  <tbody>\n",
       "    <tr>\n",
       "      <th>0</th>\n",
       "      <td>John</td>\n",
       "      <td>30</td>\n",
       "      <td>New York</td>\n",
       "    </tr>\n",
       "    <tr>\n",
       "      <th>1</th>\n",
       "      <td>Jane</td>\n",
       "      <td>29</td>\n",
       "      <td>London</td>\n",
       "    </tr>\n",
       "    <tr>\n",
       "      <th>2</th>\n",
       "      <td>Jim</td>\n",
       "      <td>31</td>\n",
       "      <td>Paris</td>\n",
       "    </tr>\n",
       "    <tr>\n",
       "      <th>3</th>\n",
       "      <td>Joan</td>\n",
       "      <td>32</td>\n",
       "      <td>Berlin</td>\n",
       "    </tr>\n",
       "  </tbody>\n",
       "</table>\n",
       "</div>"
      ],
      "text/plain": [
       "   Name  Age      City\n",
       "0  John   30  New York\n",
       "1  Jane   29    London\n",
       "2   Jim   31     Paris\n",
       "3  Joan   32    Berlin"
      ]
     },
     "execution_count": 36,
     "metadata": {},
     "output_type": "execute_result"
    }
   ],
   "source": [
    "# Create a DataFrame from a dictionary (class example)\n",
    "data = {'Name': ['John', 'Jane', 'Jim', 'Joan'],\n",
    "        'Age': [30, 29, 31, 32],\n",
    "        'City': ['New York', 'London', 'Paris', 'Berlin']}\n",
    "df = pd.DataFrame(data)\n",
    "\n",
    "# Display the DataFrame\n",
    "print(df) # Normal print\n",
    "df # Pretty formatting (Jupyter)"
   ]
  },
  {
   "cell_type": "code",
   "execution_count": 65,
   "metadata": {},
   "outputs": [
    {
     "name": "stdout",
     "output_type": "stream",
     "text": [
      "First Name      string[pyarrow]\n",
      "Last Name       string[pyarrow]\n",
      "Age              int64[pyarrow]\n",
      "State           string[pyarrow]\n",
      "Phone Number    string[pyarrow]\n",
      "dtype: object\n"
     ]
    },
    {
     "data": {
      "text/html": [
       "<div>\n",
       "<style scoped>\n",
       "    .dataframe tbody tr th:only-of-type {\n",
       "        vertical-align: middle;\n",
       "    }\n",
       "\n",
       "    .dataframe tbody tr th {\n",
       "        vertical-align: top;\n",
       "    }\n",
       "\n",
       "    .dataframe thead th {\n",
       "        text-align: right;\n",
       "    }\n",
       "</style>\n",
       "<table border=\"1\" class=\"dataframe\">\n",
       "  <thead>\n",
       "    <tr style=\"text-align: right;\">\n",
       "      <th></th>\n",
       "      <th>First Name</th>\n",
       "      <th>Last Name</th>\n",
       "      <th>Age</th>\n",
       "      <th>State</th>\n",
       "      <th>Phone Number</th>\n",
       "    </tr>\n",
       "  </thead>\n",
       "  <tbody>\n",
       "    <tr>\n",
       "      <th>0</th>\n",
       "      <td>John</td>\n",
       "      <td>Smith</td>\n",
       "      <td>18</td>\n",
       "      <td>NY</td>\n",
       "      <td>(123)123-1234</td>\n",
       "    </tr>\n",
       "    <tr>\n",
       "      <th>1</th>\n",
       "      <td>Jane</td>\n",
       "      <td>Brown</td>\n",
       "      <td>21</td>\n",
       "      <td>NY</td>\n",
       "      <td>(234)234-2345</td>\n",
       "    </tr>\n",
       "    <tr>\n",
       "      <th>2</th>\n",
       "      <td>Jim</td>\n",
       "      <td>Silver</td>\n",
       "      <td>28</td>\n",
       "      <td>VT</td>\n",
       "      <td>(345)345-3456</td>\n",
       "    </tr>\n",
       "    <tr>\n",
       "      <th>3</th>\n",
       "      <td>Joan</td>\n",
       "      <td>Carr</td>\n",
       "      <td>19</td>\n",
       "      <td>PA</td>\n",
       "      <td>(456)456-4567</td>\n",
       "    </tr>\n",
       "    <tr>\n",
       "      <th>4</th>\n",
       "      <td>James</td>\n",
       "      <td>Fazio</td>\n",
       "      <td>26</td>\n",
       "      <td>MA</td>\n",
       "      <td>(567)567-5678</td>\n",
       "    </tr>\n",
       "  </tbody>\n",
       "</table>\n",
       "</div>"
      ],
      "text/plain": [
       "  First Name Last Name  Age State   Phone Number\n",
       "0       John     Smith   18    NY  (123)123-1234\n",
       "1       Jane     Brown   21    NY  (234)234-2345\n",
       "2        Jim    Silver   28    VT  (345)345-3456\n",
       "3       Joan      Carr   19    PA  (456)456-4567\n",
       "4      James     Fazio   26    MA  (567)567-5678"
      ]
     },
     "execution_count": 65,
     "metadata": {},
     "output_type": "execute_result"
    }
   ],
   "source": [
    "# Create a DataFrame from a dictionary for student info\n",
    "student_data = {'First Name': ['John', 'Jane', 'Jim', 'Joan', 'James'],\n",
    "        'Last Name': ['Smith', 'Brown', 'Silver', 'Carr', 'Fazio'],\n",
    "        'Age' : [18, 21, 28, 19, 26],\n",
    "        'State': ['NY', 'NY', 'VT', 'PA', 'MA'],\n",
    "        'Phone Number': ['(123)123-1234', '(234)234-2345',\n",
    "                         '(345)345-3456', '(456)456-4567', '(567)567-5678']}\n",
    "\n",
    "student_df = pd.DataFrame(student_data)\n",
    "\n",
    "# Cast columns to pyarrow data types (necessary?)\n",
    "student_df = student_df.astype({'First Name': 'string[pyarrow]',\n",
    "                                'Last Name': 'string[pyarrow]',\n",
    "                                'Age': 'int64[pyarrow]',\n",
    "                                'State': 'string[pyarrow]',\n",
    "                                'Phone Number': 'string[pyarrow]'})\n",
    "\n",
    "# Another way to reassign data types (cast entire column to new dtype)\n",
    "# student_df['Age'] = student_df['Age'].astype('string[pyarrow]')\n",
    "\n",
    "# Display the dtypes and DataFrame\n",
    "print(student_df.dtypes)\n",
    "student_df"
   ]
  }
 ],
 "metadata": {
  "kernelspec": {
   "display_name": "Python 3",
   "language": "python",
   "name": "python3"
  },
  "language_info": {
   "codemirror_mode": {
    "name": "ipython",
    "version": 3
   },
   "file_extension": ".py",
   "mimetype": "text/x-python",
   "name": "python",
   "nbconvert_exporter": "python",
   "pygments_lexer": "ipython3",
   "version": "3.12.2"
  }
 },
 "nbformat": 4,
 "nbformat_minor": 2
}
