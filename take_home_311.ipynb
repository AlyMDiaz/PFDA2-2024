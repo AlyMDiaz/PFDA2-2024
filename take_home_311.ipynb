{
 "cells": [
  {
   "cell_type": "markdown",
   "metadata": {},
   "source": [
    "Take up to 5 column names from user and data type (Int, Bool, Float, Date).\n",
    "Generate CSV w/ used-entered columns 100 randomly generated rows using rand() function"
   ]
  },
  {
   "cell_type": "code",
   "execution_count": 5,
   "metadata": {},
   "outputs": [],
   "source": [
    "import csv\n",
    "import random as rand\n",
    "\n",
    "\n",
    "# Empty lists to store column name sand data types\n",
    "col_names = []\n",
    "data_types = []\n",
    "\n",
    "\n",
    "# Determine how many columns the user wants\n",
    "n = int(input(\"How many columns (1-5)? \"))\n",
    "\n",
    "\n",
    "# Collect column names and data types from user and store in 2 lists\n",
    "for i in range(n):\n",
    "    col_name = input(\"Column name: \\n\")\n",
    "    col_names.append(col_name)\n",
    "    data_type = input(f\"Data type of column {col_name} (int, bool, float, date): \\n\")\n",
    "    data_types.append(data_type)\n",
    "\n",
    "\n",
    "# Function to return list of n values, each random value with designated data type   \n",
    "def gen_value(n, data_types):\n",
    "    '''Generate values based on designated data type and return as list'''\n",
    "    rand_data = []\n",
    "\n",
    "    for x in range(n):\n",
    "        if data_types[x] == 'int':\n",
    "            rand_data.append(rand.randint(0, 1000))\n",
    "        elif data_types[x] == 'bool':\n",
    "            rand_data.append(rand.randint(0, 1))\n",
    "        elif data_types[x] == 'float':\n",
    "            rand_data.append(rand.random())\n",
    "        elif data_types[x] == 'date':\n",
    "            rand_data.append('date') # Dummy\n",
    "\n",
    "    return rand_data\n",
    "\n",
    "\n",
    "# Generate CSV w/ columns and 100 randomly generated rows of data\n",
    "with open('user_data.csv', \"w\") as f:\n",
    "    writer = csv.writer(f)\n",
    "    field = [name for name in col_names]\n",
    "    writer.writerow(field)\n",
    "    for j in range(100): # For 100 rows\n",
    "        data = gen_value(n, data_types)\n",
    "        k = 0\n",
    "        writer.writerow(data)"
   ]
  }
 ],
 "metadata": {
  "kernelspec": {
   "display_name": "Python 3",
   "language": "python",
   "name": "python3"
  },
  "language_info": {
   "codemirror_mode": {
    "name": "ipython",
    "version": 3
   },
   "file_extension": ".py",
   "mimetype": "text/x-python",
   "name": "python",
   "nbconvert_exporter": "python",
   "pygments_lexer": "ipython3",
   "version": "3.12.2"
  }
 },
 "nbformat": 4,
 "nbformat_minor": 2
}
